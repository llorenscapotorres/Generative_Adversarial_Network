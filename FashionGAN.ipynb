{
 "cells": [
  {
   "cell_type": "markdown",
   "id": "0e52dca0",
   "metadata": {},
   "source": [
    "# Import Dependencies and Data"
   ]
  },
  {
   "cell_type": "code",
   "execution_count": 1,
   "id": "5c58578e",
   "metadata": {},
   "outputs": [],
   "source": [
    "import tensorflow as tf\n",
    "gpus = tf.config.experimental.list_physical_devices('GPU')\n",
    "for gpu in gpus:\n",
    "    tf.config.experimental.set_memory_growth(gpu, True)"
   ]
  },
  {
   "cell_type": "code",
   "execution_count": null,
   "id": "6eec2e2c",
   "metadata": {},
   "outputs": [],
   "source": [
    "import matplotlib.pyplot as plt\n",
    "from tensorflow.keras.datasets import fashion_mnist # type: ignore"
   ]
  },
  {
   "cell_type": "code",
   "execution_count": 4,
   "id": "69950c62",
   "metadata": {},
   "outputs": [],
   "source": [
    "# The data has already been sorted into training and test sets for us\n",
    "(train_data, train_labels), (test_data, test_labels) = fashion_mnist.load_data()"
   ]
  },
  {
   "cell_type": "markdown",
   "id": "153ff491",
   "metadata": {},
   "source": [
    "# Viz Data and Buil Dataset"
   ]
  },
  {
   "cell_type": "code",
   "execution_count": 23,
   "id": "740778ce",
   "metadata": {},
   "outputs": [],
   "source": [
    "import random\n",
    "import numpy as np"
   ]
  },
  {
   "cell_type": "code",
   "execution_count": 18,
   "id": "47744314",
   "metadata": {},
   "outputs": [
    {
     "data": {
      "image/png": "[encoded data removed]",
      "text/plain": [
       "<Figure size 2000x2000 with 4 Axes>"
      ]
     },
     "metadata": {},
     "output_type": "display_data"
    }
   ],
   "source": [
    "# Setup teh subplot formatting\n",
    "fig, ax = plt.subplots(ncols=4, figsize=(20, 20))\n",
    "# Loop four times and get images\n",
    "for idx in range(4):\n",
    "    # Grab a random image index\n",
    "    idx_image = random.choice(range(len(train_data)))\n",
    "    # Plot the image using a specific subplot\n",
    "    ax[idx].imshow(train_data[idx_image])\n",
    "    # Appending the image label as the plot title\n",
    "    ax[idx].title.set_text(train_labels[idx_image])"
   ]
  },
  {
   "cell_type": "code",
   "execution_count": 19,
   "id": "38c3d738",
   "metadata": {},
   "outputs": [],
   "source": [
    "# Scale and return images only\n",
    "def scale_images(data):\n",
    "    return data / 255.0"
   ]
  },
  {
   "cell_type": "code",
   "execution_count": null,
   "id": "0cef3e82",
   "metadata": {},
   "outputs": [],
   "source": [
    "# Running the dataset through the scale_images preprocessing step\n",
    "dataset = scale_images(train_data)\n",
    "dataset = tf.data.Dataset.from_tensor_slices(dataset)\n",
    "dataset = dataset.cache()  # Guarda en RAM o en disco\n",
    "dataset = dataset.shuffle(60000).batch(128).prefetch(64) # Batch into 128 images per sample"
   ]
  },
  {
   "cell_type": "code",
   "execution_count": 24,
   "id": "c5e5e9e9",
   "metadata": {},
   "outputs": [
    {
     "data": {
      "text/plain": [
       "(128, 28, 28)"
      ]
     },
     "execution_count": 24,
     "metadata": {},
     "output_type": "execute_result"
    }
   ],
   "source": [
    "dataset.as_numpy_iterator().next().shape"
   ]
  },
  {
   "cell_type": "markdown",
   "id": "fd0138bb",
   "metadata": {},
   "source": [
    "# Build Neural Networks"
   ]
  },
  {
   "cell_type": "markdown",
   "id": "88bc789a",
   "metadata": {},
   "source": [
    "## Import Modelling Components"
   ]
  },
  {
   "cell_type": "code",
   "execution_count": null,
   "id": "a9702f40",
   "metadata": {},
   "outputs": [],
   "source": [
    "from tensorflow.keras.models import Sequential # type: ignore\n",
    "from tensorflow.keras.layers import Conv2D, Dense, Flatten, Reshape, LeakyReLU, Dropout, UpSampling2D # type: ignore"
   ]
  },
  {
   "cell_type": "markdown",
   "id": "2453c590",
   "metadata": {},
   "source": [
    "## Build Generator"
   ]
  },
  {
   "cell_type": "code",
   "execution_count": null,
   "id": "ae1d59c9",
   "metadata": {},
   "outputs": [],
   "source": [
    "def build_generator():\n",
    "    model = Sequential()\n",
    "\n",
    "    # Takes in random values and reshapes it to 7x7x128\n",
    "    # Beginnings of a generated image\n",
    "    model.add(Dense(7*7*128, input_dim=128))\n",
    "    model.add(LeakyReLU(0.2))\n",
    "    model.add(Reshape((7, 7, 128)))\n",
    "\n",
    "    # Upsampling block 1\n",
    "    model.add(UpSampling2D())\n",
    "    model.add(Conv2D(128, 5, padding='same'))\n",
    "    model.add(LeakyReLU(0.2))\n",
    "\n",
    "    # Umsampling bloxk 2\n",
    "    model.add(UpSampling2D())\n",
    "    model.add(Conv2D(128, 5, padding='same'))\n",
    "    model.add(LeakyReLU(0.2))\n",
    "\n",
    "    # Convolutional block 1\n",
    "    model.add(Conv2D(128, 4, padding='same'))\n",
    "    model.add(LeakyReLU(0.2))\n",
    "\n",
    "    # Convolutional block 2\n",
    "    model.add(Conv2D(128, 4, padding='same'))\n",
    "    model.add(LeakyReLU(0.2))\n",
    "\n",
    "    # Conv layer to get to one channel\n",
    "    model.add(Conv2D(1, 4, padding='same', activation='sigmoid'))\n",
    "\n",
    "    return model"
   ]
  },
  {
   "cell_type": "code",
   "execution_count": 41,
   "id": "3545013a",
   "metadata": {},
   "outputs": [],
   "source": [
    "generator = build_generator()"
   ]
  },
  {
   "cell_type": "code",
   "execution_count": 42,
   "id": "d01b8660",
   "metadata": {},
   "outputs": [
    {
     "name": "stdout",
     "output_type": "stream",
     "text": [
      "Model: \"sequential_4\"\n",
      "_________________________________________________________________\n",
      " Layer (type)                Output Shape              Param #   \n",
      "=================================================================\n",
      " dense_5 (Dense)             (None, 6272)              809088    \n",
      "                                                                 \n",
      " leaky_re_lu_13 (LeakyReLU)  (None, 6272)              0         \n",
      "                                                                 \n",
      " reshape_4 (Reshape)         (None, 7, 7, 128)         0         \n",
      "                                                                 \n",
      " up_sampling2d_5 (UpSampling  (None, 14, 14, 128)      0         \n",
      " 2D)                                                             \n",
      "                                                                 \n",
      " conv2d_10 (Conv2D)          (None, 14, 14, 128)       409728    \n",
      "                                                                 \n",
      " leaky_re_lu_14 (LeakyReLU)  (None, 14, 14, 128)       0         \n",
      "                                                                 \n",
      " up_sampling2d_6 (UpSampling  (None, 28, 28, 128)      0         \n",
      " 2D)                                                             \n",
      "                                                                 \n",
      " conv2d_11 (Conv2D)          (None, 28, 28, 128)       409728    \n",
      "                                                                 \n",
      " leaky_re_lu_15 (LeakyReLU)  (None, 28, 28, 128)       0         \n",
      "                                                                 \n",
      " conv2d_12 (Conv2D)          (None, 28, 28, 128)       262272    \n",
      "                                                                 \n",
      " leaky_re_lu_16 (LeakyReLU)  (None, 28, 28, 128)       0         \n",
      "                                                                 \n",
      " conv2d_13 (Conv2D)          (None, 28, 28, 128)       262272    \n",
      "                                                                 \n",
      " leaky_re_lu_17 (LeakyReLU)  (None, 28, 28, 128)       0         \n",
      "                                                                 \n",
      " conv2d_14 (Conv2D)          (None, 28, 28, 1)         2049      \n",
      "                                                                 \n",
      "=================================================================\n",
      "Total params: 2,155,137\n",
      "Trainable params: 2,155,137\n",
      "Non-trainable params: 0\n",
      "_________________________________________________________________\n"
     ]
    }
   ],
   "source": [
    "generator.summary()"
   ]
  },
  {
   "cell_type": "code",
   "execution_count": 61,
   "id": "46ce9b6b",
   "metadata": {},
   "outputs": [
    {
     "name": "stdout",
     "output_type": "stream",
     "text": [
      "1/1 [==============================] - 0s 36ms/step\n"
     ]
    },
    {
     "data": {
      "text/plain": [
       "array([[[[0.50501066],\n",
       "         [0.5046338 ],\n",
       "         [0.49947554],\n",
       "         ...,\n",
       "         [0.5020739 ],\n",
       "         [0.50536764],\n",
       "         [0.500044  ]],\n",
       "\n",
       "        [[0.5089164 ],\n",
       "         [0.5002739 ],\n",
       "         [0.49988058],\n",
       "         ...,\n",
       "         [0.50309676],\n",
       "         [0.5052099 ],\n",
       "         [0.49844998]],\n",
       "\n",
       "        [[0.5080274 ],\n",
       "         [0.49997163],\n",
       "         [0.49414986],\n",
       "         ...,\n",
       "         [0.5060657 ],\n",
       "         [0.50626177],\n",
       "         [0.50004774]],\n",
       "\n",
       "        ...,\n",
       "\n",
       "        [[0.50287026],\n",
       "         [0.50548005],\n",
       "         [0.50804526],\n",
       "         ...,\n",
       "         [0.51518524],\n",
       "         [0.51066357],\n",
       "         [0.50892866]],\n",
       "\n",
       "        [[0.5046718 ],\n",
       "         [0.50801057],\n",
       "         [0.5171089 ],\n",
       "         ...,\n",
       "         [0.50691897],\n",
       "         [0.503159  ],\n",
       "         [0.5045308 ]],\n",
       "\n",
       "        [[0.506566  ],\n",
       "         [0.5092344 ],\n",
       "         [0.5139108 ],\n",
       "         ...,\n",
       "         [0.50254184],\n",
       "         [0.50228745],\n",
       "         [0.50086814]]],\n",
       "\n",
       "\n",
       "       [[[0.5068846 ],\n",
       "         [0.5036483 ],\n",
       "         [0.5005007 ],\n",
       "         ...,\n",
       "         [0.5023297 ],\n",
       "         [0.50221086],\n",
       "         [0.5011709 ]],\n",
       "\n",
       "        [[0.5048551 ],\n",
       "         [0.5075147 ],\n",
       "         [0.5113657 ],\n",
       "         ...,\n",
       "         [0.50801927],\n",
       "         [0.50894314],\n",
       "         [0.5051338 ]],\n",
       "\n",
       "        [[0.50838137],\n",
       "         [0.51107013],\n",
       "         [0.5041124 ],\n",
       "         ...,\n",
       "         [0.50641185],\n",
       "         [0.5101033 ],\n",
       "         [0.502097  ]],\n",
       "\n",
       "        ...,\n",
       "\n",
       "        [[0.51048285],\n",
       "         [0.5090681 ],\n",
       "         [0.51397616],\n",
       "         ...,\n",
       "         [0.5132743 ],\n",
       "         [0.50212145],\n",
       "         [0.50347877]],\n",
       "\n",
       "        [[0.50762576],\n",
       "         [0.5123296 ],\n",
       "         [0.51403415],\n",
       "         ...,\n",
       "         [0.51043075],\n",
       "         [0.5015521 ],\n",
       "         [0.5006254 ]],\n",
       "\n",
       "        [[0.504874  ],\n",
       "         [0.5059843 ],\n",
       "         [0.5084364 ],\n",
       "         ...,\n",
       "         [0.50419164],\n",
       "         [0.5000894 ],\n",
       "         [0.49976552]]],\n",
       "\n",
       "\n",
       "       [[[0.4972087 ],\n",
       "         [0.49988595],\n",
       "         [0.5076284 ],\n",
       "         ...,\n",
       "         [0.502852  ],\n",
       "         [0.5027039 ],\n",
       "         [0.49711314]],\n",
       "\n",
       "        [[0.5012316 ],\n",
       "         [0.50586194],\n",
       "         [0.5136905 ],\n",
       "         ...,\n",
       "         [0.5096935 ],\n",
       "         [0.5111524 ],\n",
       "         [0.49814475]],\n",
       "\n",
       "        [[0.5041577 ],\n",
       "         [0.5076585 ],\n",
       "         [0.51376337],\n",
       "         ...,\n",
       "         [0.5077137 ],\n",
       "         [0.5119035 ],\n",
       "         [0.49964324]],\n",
       "\n",
       "        ...,\n",
       "\n",
       "        [[0.5046644 ],\n",
       "         [0.5041948 ],\n",
       "         [0.5029887 ],\n",
       "         ...,\n",
       "         [0.5181166 ],\n",
       "         [0.51334095],\n",
       "         [0.5121665 ]],\n",
       "\n",
       "        [[0.5065724 ],\n",
       "         [0.5129883 ],\n",
       "         [0.5104774 ],\n",
       "         ...,\n",
       "         [0.51290005],\n",
       "         [0.50691384],\n",
       "         [0.5058418 ]],\n",
       "\n",
       "        [[0.5051676 ],\n",
       "         [0.5057499 ],\n",
       "         [0.503505  ],\n",
       "         ...,\n",
       "         [0.50798756],\n",
       "         [0.5050368 ],\n",
       "         [0.50112844]]],\n",
       "\n",
       "\n",
       "       [[[0.50024843],\n",
       "         [0.5020234 ],\n",
       "         [0.5059071 ],\n",
       "         ...,\n",
       "         [0.5036982 ],\n",
       "         [0.5016645 ],\n",
       "         [0.50175667]],\n",
       "\n",
       "        [[0.49668458],\n",
       "         [0.5027731 ],\n",
       "         [0.5065966 ],\n",
       "         ...,\n",
       "         [0.50872046],\n",
       "         [0.50264025],\n",
       "         [0.49702907]],\n",
       "\n",
       "        [[0.49499178],\n",
       "         [0.49916324],\n",
       "         [0.5074666 ],\n",
       "         ...,\n",
       "         [0.51653826],\n",
       "         [0.5025912 ],\n",
       "         [0.49969357]],\n",
       "\n",
       "        ...,\n",
       "\n",
       "        [[0.50234365],\n",
       "         [0.50717044],\n",
       "         [0.5183554 ],\n",
       "         ...,\n",
       "         [0.5120761 ],\n",
       "         [0.50557655],\n",
       "         [0.5014406 ]],\n",
       "\n",
       "        [[0.5062692 ],\n",
       "         [0.51336294],\n",
       "         [0.515023  ],\n",
       "         ...,\n",
       "         [0.5059678 ],\n",
       "         [0.5013224 ],\n",
       "         [0.5035558 ]],\n",
       "\n",
       "        [[0.50234777],\n",
       "         [0.50271934],\n",
       "         [0.50018185],\n",
       "         ...,\n",
       "         [0.5071365 ],\n",
       "         [0.50077975],\n",
       "         [0.50177044]]]], dtype=float32)"
      ]
     },
     "execution_count": 61,
     "metadata": {},
     "output_type": "execute_result"
    }
   ],
   "source": [
    "img = generator.predict(np.random.randn(4, 128, 1))\n",
    "img"
   ]
  },
  {
   "cell_type": "code",
   "execution_count": 45,
   "id": "46e3a189",
   "metadata": {},
   "outputs": [
    {
     "data": {
      "image/png": "[encoded data removed]",
      "text/plain": [
       "<Figure size 2000x2000 with 4 Axes>"
      ]
     },
     "metadata": {},
     "output_type": "display_data"
    }
   ],
   "source": [
    "fig, ax = plt.subplots(ncols=4, figsize=(20, 20))\n",
    "for idx, img in enumerate(img):\n",
    "    ax[idx].imshow(np.squeeze(img))\n",
    "    ax[idx].title.set_text(idx)"
   ]
  },
  {
   "cell_type": "markdown",
   "id": "a9ab7c63",
   "metadata": {},
   "source": [
    "# Build Discriminator"
   ]
  },
  {
   "cell_type": "code",
   "execution_count": 57,
   "id": "3eeca53f",
   "metadata": {},
   "outputs": [],
   "source": [
    "def build_discriminator():\n",
    "    model = Sequential()\n",
    "\n",
    "    # First Conv Block\n",
    "    model.add(Conv2D(32, 5, input_shape=(28, 28, 1)))\n",
    "    model.add(LeakyReLU(0.2))\n",
    "    model.add(Dropout(0.4))\n",
    "\n",
    "    # Second Conv Block\n",
    "    model.add(Conv2D(64, 5))\n",
    "    model.add(LeakyReLU(0.2))\n",
    "    model.add(Dropout(0.4))\n",
    "    \n",
    "    # Third Conv Block\n",
    "    model.add(Conv2D(128, 5))\n",
    "    model.add(LeakyReLU(0.2))\n",
    "    model.add(Dropout(0.4))\n",
    "\n",
    "    # Fourth Conv Block\n",
    "    model.add(Conv2D(256, 5))\n",
    "    model.add(LeakyReLU(0.2))\n",
    "    model.add(Dropout(0.4))\n",
    "\n",
    "    # Flatten then pass to dense layer\n",
    "    model.add(Flatten())\n",
    "    model.add(Dropout(0.4))\n",
    "    model.add(Dense(1, activation='sigmoid'))\n",
    "\n",
    "    return model"
   ]
  },
  {
   "cell_type": "code",
   "execution_count": 58,
   "id": "fc6f0fb0",
   "metadata": {},
   "outputs": [],
   "source": [
    "discriminator = build_discriminator()"
   ]
  },
  {
   "cell_type": "code",
   "execution_count": 59,
   "id": "221cae80",
   "metadata": {},
   "outputs": [
    {
     "name": "stdout",
     "output_type": "stream",
     "text": [
      "Model: \"sequential_9\"\n",
      "_________________________________________________________________\n",
      " Layer (type)                Output Shape              Param #   \n",
      "=================================================================\n",
      " conv2d_24 (Conv2D)          (None, 24, 24, 32)        832       \n",
      "                                                                 \n",
      " leaky_re_lu_26 (LeakyReLU)  (None, 24, 24, 32)        0         \n",
      "                                                                 \n",
      " dropout_8 (Dropout)         (None, 24, 24, 32)        0         \n",
      "                                                                 \n",
      " conv2d_25 (Conv2D)          (None, 20, 20, 64)        51264     \n",
      "                                                                 \n",
      " leaky_re_lu_27 (LeakyReLU)  (None, 20, 20, 64)        0         \n",
      "                                                                 \n",
      " dropout_9 (Dropout)         (None, 20, 20, 64)        0         \n",
      "                                                                 \n",
      " conv2d_26 (Conv2D)          (None, 16, 16, 128)       204928    \n",
      "                                                                 \n",
      " leaky_re_lu_28 (LeakyReLU)  (None, 16, 16, 128)       0         \n",
      "                                                                 \n",
      " dropout_10 (Dropout)        (None, 16, 16, 128)       0         \n",
      "                                                                 \n",
      " conv2d_27 (Conv2D)          (None, 12, 12, 256)       819456    \n",
      "                                                                 \n",
      " leaky_re_lu_29 (LeakyReLU)  (None, 12, 12, 256)       0         \n",
      "                                                                 \n",
      " dropout_11 (Dropout)        (None, 12, 12, 256)       0         \n",
      "                                                                 \n",
      " flatten (Flatten)           (None, 36864)             0         \n",
      "                                                                 \n",
      " dropout_12 (Dropout)        (None, 36864)             0         \n",
      "                                                                 \n",
      " dense_6 (Dense)             (None, 1)                 36865     \n",
      "                                                                 \n",
      "=================================================================\n",
      "Total params: 1,113,345\n",
      "Trainable params: 1,113,345\n",
      "Non-trainable params: 0\n",
      "_________________________________________________________________\n"
     ]
    }
   ],
   "source": [
    "discriminator.summary()"
   ]
  },
  {
   "cell_type": "code",
   "execution_count": 62,
   "id": "f4b9b021",
   "metadata": {},
   "outputs": [
    {
     "name": "stdout",
     "output_type": "stream",
     "text": [
      "1/1 [==============================] - 0s 208ms/step\n"
     ]
    },
    {
     "data": {
      "text/plain": [
       "array([[0.494473 ],\n",
       "       [0.4944406],\n",
       "       [0.4946734],\n",
       "       [0.4945607]], dtype=float32)"
      ]
     },
     "execution_count": 62,
     "metadata": {},
     "output_type": "execute_result"
    }
   ],
   "source": [
    "discriminator.predict(img)"
   ]
  },
  {
   "cell_type": "markdown",
   "id": "3e5920df",
   "metadata": {},
   "source": [
    "# Contruct Training Loop"
   ]
  }
 ],
 "metadata": {
  "kernelspec": {
   "display_name": "tf",
   "language": "python",
   "name": "python3"
  },
  "language_info": {
   "codemirror_mode": {
    "name": "ipython",
    "version": 3
   },
   "file_extension": ".py",
   "mimetype": "text/x-python",
   "name": "python",
   "nbconvert_exporter": "python",
   "pygments_lexer": "ipython3",
   "version": "3.10.17"
  }
 },
 "nbformat": 4,
 "nbformat_minor": 5
}
